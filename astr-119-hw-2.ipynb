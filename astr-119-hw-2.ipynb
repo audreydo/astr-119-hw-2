{
 "cells": [
  {
   "cell_type": "markdown",
   "metadata": {},
   "source": [
    "# ASTR 119 - Homework #2, Due Oct. 18\n",
    "\n",
    "Audrey Do"
   ]
  },
  {
   "cell_type": "code",
   "execution_count": null,
   "metadata": {},
   "outputs": [],
   "source": [
    "%matplotlib inline\n",
    "import numpy as np\n",
    "import matplotlib.pyplot as plt"
   ]
  },
  {
   "cell_type": "code",
   "execution_count": null,
   "metadata": {},
   "outputs": [],
   "source": [
    "x = np.arange(0, 2*np.pi, 2*np.pi/1000)   # create an array ranging from 0 to 2pi in 1000 increments\n",
    "y1 = 5.5 * np.cos(2*x) + 5.5\n",
    "y2 = 0.02 * np.exp(x)\n",
    "y3 = 0.25 * (x**2) + 0.1*np.sin(10*x)"
   ]
  },
  {
   "cell_type": "code",
   "execution_count": null,
   "metadata": {},
   "outputs": [],
   "source": [
    "fig = plt.figure(figsize=(10,10))   # set figure size to 10 x 10\n",
    "\n",
    "plt.plot(x,y1,label=r'$y = 5.5 * cos(2x) + 5.5$')   # plot y1\n",
    "plt.plot(x,y2,label=r'$y = 0.02 * e^x$')   # plot y2\n",
    "plt.plot(x,y3,label=r'$y = 0.25x^2 + 0.1sin(10x)$')   # plot y3\n",
    "\n",
    "plt.ylim(-1,10)   # set y range from -1 to 10\n",
    "\n",
    "plt.xlabel(\"Time in Astr 119\")   # label x axis as \"Time in Astr 119\"\n",
    "plt.ylabel(\"Measures of Awesomeness\")   # label y axis as \"Measure of Awesomeness\"\n",
    "plt.legend(loc=4,framealpha=0.9)   # add a legend with a semitransparent frame in bottom right corner\n",
    "\n"
   ]
  },
  {
   "cell_type": "code",
   "execution_count": null,
   "metadata": {},
   "outputs": [],
   "source": []
  }
 ],
 "metadata": {
  "kernelspec": {
   "display_name": "Python 3",
   "language": "python",
   "name": "python3"
  },
  "language_info": {
   "codemirror_mode": {
    "name": "ipython",
    "version": 3
   },
   "file_extension": ".py",
   "mimetype": "text/x-python",
   "name": "python",
   "nbconvert_exporter": "python",
   "pygments_lexer": "ipython3",
   "version": "3.4.6"
  }
 },
 "nbformat": 4,
 "nbformat_minor": 2
}
